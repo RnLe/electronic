{
 "cells": [
  {
   "cell_type": "code",
   "execution_count": 7,
   "metadata": {},
   "outputs": [
    {
     "name": "stdout",
     "output_type": "stream",
     "text": [
      "I_E1 = 50.00 mA\n",
      "I_B1 = 331.13 uA\n",
      "I_E2 = 49.6689 mA\n"
     ]
    }
   ],
   "source": [
    "R1 = R2 = 14    # Ohm\n",
    "R3 = 1e6        # Ohm\n",
    "beta = 150\n",
    "UD1 = UD2 = UBE = 0.7\n",
    "UEB = -UBE\n",
    "\n",
    "I_E1 = 0.7 / R1\n",
    "I_B1 = I_E1 / 151\n",
    "I_E2 = 50e-3\n",
    "I_C2 = I_E2 * 150/151.\n",
    "\n",
    "print(\"I_E1 = {:.2f} mA\".format(I_E1 * 1e3))\n",
    "print(\"I_B1 = {:.2f} uA\".format(I_B1 * 1e6))\n",
    "print(\"I_E2 = {:.4f} mA\".format(I_C2 * 1e3))"
   ]
  },
  {
   "cell_type": "code",
   "execution_count": null,
   "metadata": {},
   "outputs": [],
   "source": []
  }
 ],
 "metadata": {
  "kernelspec": {
   "display_name": "smd",
   "language": "python",
   "name": "python3"
  },
  "language_info": {
   "codemirror_mode": {
    "name": "ipython",
    "version": 3
   },
   "file_extension": ".py",
   "mimetype": "text/x-python",
   "name": "python",
   "nbconvert_exporter": "python",
   "pygments_lexer": "ipython3",
   "version": "3.1.undefined"
  }
 },
 "nbformat": 4,
 "nbformat_minor": 2
}
