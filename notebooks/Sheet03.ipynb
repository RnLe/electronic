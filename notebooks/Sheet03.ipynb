{
 "cells": [
  {
   "cell_type": "markdown",
   "metadata": {},
   "source": [
    "# Aufgabe 1: Netzwerk\n",
    "### a)"
   ]
  },
  {
   "cell_type": "code",
   "execution_count": 4,
   "metadata": {},
   "outputs": [],
   "source": [
    "import numpy as np"
   ]
  },
  {
   "cell_type": "code",
   "execution_count": 1,
   "metadata": {},
   "outputs": [
    {
     "name": "stdout",
     "output_type": "stream",
     "text": [
      "R_i =  57.5\n"
     ]
    }
   ],
   "source": [
    "R_1 = 10\n",
    "R_2 = 30\n",
    "R_3 = 50\n",
    "\n",
    "V_1 = 10\n",
    "I_3 = 0.1\n",
    "\n",
    "R_i = R_3 + R_1*R_2/(R_1+R_2)\n",
    "\n",
    "print(\"R_i = \", R_i)"
   ]
  },
  {
   "cell_type": "markdown",
   "metadata": {},
   "source": [
    "### b)"
   ]
  },
  {
   "cell_type": "code",
   "execution_count": 2,
   "metadata": {},
   "outputs": [
    {
     "name": "stdout",
     "output_type": "stream",
     "text": [
      "I_ =  0.25\n",
      "U_1_ =  2.5\n",
      "U_2_ =  7.5\n",
      "U_A_ =  7.5\n"
     ]
    }
   ],
   "source": [
    "I_ = V_1/(R_1+R_2)\n",
    "U_1_ = I_*R_1\n",
    "U_2_ = I_*R_2\n",
    "U_A_ = V_1 - U_1_\n",
    "\n",
    "print(\"I_ = \", I_)\n",
    "print(\"U_1_ = \", U_1_)\n",
    "print(\"U_2_ = \", U_2_)\n",
    "print(\"U_A_ = \", U_A_)"
   ]
  },
  {
   "cell_type": "code",
   "execution_count": 9,
   "metadata": {},
   "outputs": [
    {
     "name": "stdout",
     "output_type": "stream",
     "text": [
      "V_3 =  5.75\n",
      "I_1__ =  0.075\n",
      "I_2__ =  0.025\n",
      "U_1__ =  0.75\n",
      "U_2__ =  0.75\n"
     ]
    }
   ],
   "source": [
    "V_3 = R_i * I_3\n",
    "I_1__ = I_3 * R_2 / (R_1 + R_2)\n",
    "I_2__ = I_3 * R_1 / (R_1 + R_2)\n",
    "U_1__ = I_1__ * R_1\n",
    "U_2__ = I_2__ * R_2\n",
    "\n",
    "print(\"V_3 = \", V_3)\n",
    "print(\"I_1__ = \", I_1__)\n",
    "print(\"I_2__ = \", I_2__)\n",
    "print(\"U_1__ = \", U_1__)\n",
    "print(\"U_2__ = \", U_2__)"
   ]
  },
  {
   "cell_type": "code",
   "execution_count": 13,
   "metadata": {},
   "outputs": [
    {
     "name": "stdout",
     "output_type": "stream",
     "text": [
      "I_k =  0.23043478260869565\n",
      "V_0 =  13.25\n"
     ]
    }
   ],
   "source": [
    "V_0 = V_3 + 7.5\n",
    "I_k = V_0 / R_i\n",
    "\n",
    "print(\"I_k = \", I_k)\n",
    "print(\"V_0 = \", V_0)"
   ]
  },
  {
   "cell_type": "markdown",
   "metadata": {},
   "source": [
    "# Aufgabe 2"
   ]
  },
  {
   "cell_type": "code",
   "execution_count": 3,
   "metadata": {},
   "outputs": [
    {
     "name": "stdout",
     "output_type": "stream",
     "text": [
      "R_L =  7.2\n",
      "I =  1.6666666666666667\n"
     ]
    }
   ],
   "source": [
    "P = 20\n",
    "f = 50\n",
    "U_L = 12\n",
    "V_0 = 24\n",
    "\n",
    "R_L = R_V = U_L**2/P\n",
    "I = P/U_L\n",
    "\n",
    "print(\"R_L = \", R_L)\n",
    "print(\"I = \", I)"
   ]
  },
  {
   "cell_type": "code",
   "execution_count": 5,
   "metadata": {},
   "outputs": [
    {
     "name": "stdout",
     "output_type": "stream",
     "text": [
      "X_L =  7.199999999999999\n",
      "L =  0.022918311805232926\n"
     ]
    }
   ],
   "source": [
    "X_L = U_L/I\n",
    "L = X_L/(2*np.pi*f)\n",
    "\n",
    "print(\"X_L = \", X_L)\n",
    "print(\"L = \", L)"
   ]
  },
  {
   "cell_type": "code",
   "execution_count": 6,
   "metadata": {},
   "outputs": [
    {
     "name": "stdout",
     "output_type": "stream",
     "text": [
      "phi =  0.7853981633974483\n",
      "cos_phi =  0.7071067811865476\n",
      "sin_phi =  0.7071067811865475\n",
      "P_wirk =  28.284271247461902\n",
      "Q_blind =  28.2842712474619\n"
     ]
    }
   ],
   "source": [
    "phi = np.arctan(2*np.pi*f*L/R_L)\n",
    "cos_phi = np.cos(phi)\n",
    "sin_phi = np.sin(phi)\n",
    "\n",
    "P_wirk = V_0*I*cos_phi\n",
    "Q_blind = V_0*I*sin_phi\n",
    "\n",
    "print(\"phi = \", phi)\n",
    "print(\"cos_phi = \", cos_phi)\n",
    "print(\"sin_phi = \", sin_phi)\n",
    "print(\"P_wirk = \", P_wirk)\n",
    "print(\"Q_blind = \", Q_blind)\n"
   ]
  },
  {
   "cell_type": "code",
   "execution_count": null,
   "metadata": {},
   "outputs": [],
   "source": []
  }
 ],
 "metadata": {
  "kernelspec": {
   "display_name": "basics",
   "language": "python",
   "name": "python3"
  },
  "language_info": {
   "codemirror_mode": {
    "name": "ipython",
    "version": 3
   },
   "file_extension": ".py",
   "mimetype": "text/x-python",
   "name": "python",
   "nbconvert_exporter": "python",
   "pygments_lexer": "ipython3",
   "version": "3.1.undefined"
  }
 },
 "nbformat": 4,
 "nbformat_minor": 2
}
