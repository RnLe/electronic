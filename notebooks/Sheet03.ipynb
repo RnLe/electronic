{
 "cells": [
  {
   "cell_type": "markdown",
   "metadata": {},
   "source": [
    "# Aufgabe 1: Netzwerk\n",
    "### a)"
   ]
  },
  {
   "cell_type": "code",
   "execution_count": 1,
   "metadata": {},
   "outputs": [],
   "source": [
    "import numpy as np"
   ]
  },
  {
   "cell_type": "code",
   "execution_count": 2,
   "metadata": {},
   "outputs": [
    {
     "name": "stdout",
     "output_type": "stream",
     "text": [
      "R_i =  57.5\n"
     ]
    }
   ],
   "source": [
    "R_1 = 10\n",
    "R_2 = 30\n",
    "R_3 = 50\n",
    "\n",
    "V_1 = 10\n",
    "I_3 = 0.1\n",
    "\n",
    "R_i = R_3 + R_1*R_2/(R_1+R_2)\n",
    "\n",
    "print(\"R_i = \", R_i)"
   ]
  },
  {
   "cell_type": "markdown",
   "metadata": {},
   "source": [
    "### b)"
   ]
  },
  {
   "cell_type": "code",
   "execution_count": 3,
   "metadata": {},
   "outputs": [
    {
     "name": "stdout",
     "output_type": "stream",
     "text": [
      "I_ =  0.25\n",
      "U_1_ =  2.5\n",
      "U_2_ =  7.5\n",
      "U_A_ =  7.5\n"
     ]
    }
   ],
   "source": [
    "I_ = V_1/(R_1+R_2)\n",
    "U_1_ = I_*R_1\n",
    "U_2_ = I_*R_2\n",
    "U_A_ = V_1 - U_1_\n",
    "\n",
    "print(\"I_ = \", I_)\n",
    "print(\"U_1_ = \", U_1_)\n",
    "print(\"U_2_ = \", U_2_)\n",
    "print(\"U_A_ = \", U_A_)"
   ]
  },
  {
   "cell_type": "code",
   "execution_count": 4,
   "metadata": {},
   "outputs": [
    {
     "name": "stdout",
     "output_type": "stream",
     "text": [
      "V_3 =  5.75\n",
      "I_1__ =  0.075\n",
      "I_2__ =  0.025\n",
      "U_1__ =  0.75\n",
      "U_2__ =  0.75\n"
     ]
    }
   ],
   "source": [
    "V_3 = R_i * I_3\n",
    "I_1__ = I_3 * R_2 / (R_1 + R_2)\n",
    "I_2__ = I_3 * R_1 / (R_1 + R_2)\n",
    "U_1__ = I_1__ * R_1\n",
    "U_2__ = I_2__ * R_2\n",
    "\n",
    "print(\"V_3 = \", V_3)\n",
    "print(\"I_1__ = \", I_1__)\n",
    "print(\"I_2__ = \", I_2__)\n",
    "print(\"U_1__ = \", U_1__)\n",
    "print(\"U_2__ = \", U_2__)"
   ]
  },
  {
   "cell_type": "code",
   "execution_count": 5,
   "metadata": {},
   "outputs": [
    {
     "name": "stdout",
     "output_type": "stream",
     "text": [
      "I_k =  0.23043478260869565\n",
      "V_0 =  13.25\n"
     ]
    }
   ],
   "source": [
    "V_0 = V_3 + 7.5\n",
    "I_k = V_0 / R_i\n",
    "\n",
    "print(\"I_k = \", I_k)\n",
    "print(\"V_0 = \", V_0)"
   ]
  },
  {
   "cell_type": "markdown",
   "metadata": {},
   "source": [
    "# Aufgabe 2"
   ]
  },
  {
   "cell_type": "code",
   "execution_count": 6,
   "metadata": {},
   "outputs": [
    {
     "name": "stdout",
     "output_type": "stream",
     "text": [
      "R_L =  7.2\n",
      "I =  1.6666666666666667\n"
     ]
    }
   ],
   "source": [
    "P = 20\n",
    "f = 50\n",
    "U_L = 12\n",
    "V_0 = 24\n",
    "\n",
    "R_L = R_V = U_L**2/P\n",
    "I = P/U_L\n",
    "\n",
    "print(\"R_L = \", R_L)\n",
    "print(\"I = \", I)"
   ]
  },
  {
   "cell_type": "code",
   "execution_count": 7,
   "metadata": {},
   "outputs": [
    {
     "name": "stdout",
     "output_type": "stream",
     "text": [
      "L =  0.02291831180523293\n",
      "I =  2.357022603955158\n",
      "P =  39.999999999999986\n",
      "Q =  39.999999999999986\n",
      "P2 =  39.99999999999999\n",
      "Q2 =  39.999999999999986\n"
     ]
    }
   ],
   "source": [
    "L = R_L/(2*np.pi*f)\n",
    "I = V_0/(R_L*np.sqrt(2))\n",
    "P = I**2 * R_L\n",
    "Q = I**2 * R_L\n",
    "P2 = V_0 * I * np.cos(np.pi/4)\n",
    "Q2 = V_0 * I * np.sin(np.pi/4)\n",
    "\n",
    "print(\"L = \", L)\n",
    "print(\"I = \", I)\n",
    "print(\"P = \", P)\n",
    "print(\"Q = \", Q)\n",
    "print(\"P2 = \", P2)\n",
    "print(\"Q2 = \", Q2)"
   ]
  },
  {
   "cell_type": "code",
   "execution_count": 8,
   "metadata": {},
   "outputs": [
    {
     "name": "stdout",
     "output_type": "stream",
     "text": [
      "I_max =  3.333333333333333\n",
      "V_max =  33.941125496954285\n"
     ]
    }
   ],
   "source": [
    "I_max = I*np.sqrt(2)\n",
    "V_max = V_0*np.sqrt(2)\n",
    "\n",
    "print(\"I_max = \", I_max)\n",
    "print(\"V_max = \", V_max)"
   ]
  },
  {
   "cell_type": "markdown",
   "metadata": {},
   "source": [
    "# Aufgabe 3\n",
    "a), b)"
   ]
  },
  {
   "cell_type": "code",
   "execution_count": 9,
   "metadata": {},
   "outputs": [
    {
     "name": "stdout",
     "output_type": "stream",
     "text": [
      "I =  [0.0006 0.0003]\n",
      "P =  [0.0036 0.0018]\n"
     ]
    }
   ],
   "source": [
    "R_1 = 10e3\n",
    "R_2 = np.array([0, 10e3])\n",
    "U_0 = 6\n",
    "\n",
    "I = U_0/(R_1+R_2)\n",
    "P = U_0*I\n",
    "\n",
    "print(\"I = \", I)\n",
    "print(\"P = \", P)"
   ]
  },
  {
   "cell_type": "markdown",
   "metadata": {},
   "source": [
    "c)"
   ]
  },
  {
   "cell_type": "code",
   "execution_count": 10,
   "metadata": {},
   "outputs": [
    {
     "name": "stdout",
     "output_type": "stream",
     "text": [
      "I =  [0.00015  0.000175 0.0002   0.000225 0.00025  0.000275 0.0003  ]\n",
      "U_kl =  [1.5  1.75 2.   2.25 2.5  2.75 3.  ]\n"
     ]
    }
   ],
   "source": [
    "U_0_Delta = np.array([3.0, 3.5, 4.0, 4.5, 5.0, 5.5, 6.0])\n",
    "U_kl = U_0_Delta/2\n",
    "R_1 = R_2 = 10e3\n",
    "I = U_0_Delta/(R_1+R_2)\n",
    "\n",
    "print(\"I = \", I)\n",
    "print(\"U_kl = \", U_kl)"
   ]
  },
  {
   "cell_type": "code",
   "execution_count": 11,
   "metadata": {},
   "outputs": [
    {
     "name": "stdout",
     "output_type": "stream",
     "text": [
      "I_specific =  0.00022999999999999998\n",
      "U_kl_specific =  2.3\n"
     ]
    }
   ],
   "source": [
    "U_0_specific = 4.6\n",
    "U_kl_specific = U_0_specific/2\n",
    "I_specific = U_0_specific/(R_1+R_2)\n",
    "\n",
    "print(\"I_specific = \", I_specific)\n",
    "print(\"U_kl_specific = \", U_kl_specific)"
   ]
  },
  {
   "cell_type": "code",
   "execution_count": 15,
   "metadata": {},
   "outputs": [
    {
     "name": "stdout",
     "output_type": "stream",
     "text": [
      "I_L =  [0.00072    0.00032727]\n",
      "R_ges =  [ 3333.33333333 13333.33333333]\n",
      "I =  [0.0018  0.00045]\n",
      "U_L =  [3.6        1.63636364]\n"
     ]
    }
   ],
   "source": [
    "U_0 = 6\n",
    "R_1 = np.array([0, 10e3])\n",
    "R_L = 5e3\n",
    "R_2 = 10e3\n",
    "R_ges = R_1 + R_L*R_2/(R_L+R_2)\n",
    "I = U_0/R_ges\n",
    "I_L = I*R_ges/(R_ges+R_L)\n",
    "U_L = I_L*R_L\n",
    "\n",
    "print(\"I_L = \", I_L)\n",
    "print(\"R_ges = \", R_ges)\n",
    "print(\"I = \", I)\n",
    "print(\"U_L = \", U_L)"
   ]
  },
  {
   "cell_type": "code",
   "execution_count": null,
   "metadata": {},
   "outputs": [],
   "source": []
  }
 ],
 "metadata": {
  "kernelspec": {
   "display_name": "basics",
   "language": "python",
   "name": "python3"
  },
  "language_info": {
   "codemirror_mode": {
    "name": "ipython",
    "version": 3
   },
   "file_extension": ".py",
   "mimetype": "text/x-python",
   "name": "python",
   "nbconvert_exporter": "python",
   "pygments_lexer": "ipython3",
   "version": "3.12.2"
  }
 },
 "nbformat": 4,
 "nbformat_minor": 2
}
