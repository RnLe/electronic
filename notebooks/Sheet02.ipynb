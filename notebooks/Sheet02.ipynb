{
 "cells": [
  {
   "cell_type": "code",
   "execution_count": 1,
   "metadata": {},
   "outputs": [],
   "source": [
    "import numpy as np"
   ]
  },
  {
   "cell_type": "markdown",
   "metadata": {},
   "source": [
    "# Aufgabe 7\n",
    "Schaltkreis-Äquivalenzumformung über Impedanz"
   ]
  },
  {
   "cell_type": "code",
   "execution_count": 5,
   "metadata": {},
   "outputs": [
    {
     "name": "stdout",
     "output_type": "stream",
     "text": [
      "R_2 = 24675011.00 Ohm\n",
      "L_2 = 0.001 H\n"
     ]
    }
   ],
   "source": [
    "R_1 = 1000  # Ohm\n",
    "L_1 = 10e-4 # H\n",
    "f = 25*10e5 # Hz\n",
    "omega = 2*np.pi*f\n",
    "\n",
    "R_2 = (R_1**2 + omega**2*L_1**2)/(R_1)\n",
    "L_2 = (R_1**2 + omega**2*L_1**2)/(omega**2*L_1)\n",
    "\n",
    "print(\"R_2 = {:.2f} Ohm\".format(R_2))\n",
    "print(\"L_2 = {:.3f} H\".format(L_2))"
   ]
  },
  {
   "cell_type": "code",
   "execution_count": null,
   "metadata": {},
   "outputs": [],
   "source": []
  }
 ],
 "metadata": {
  "kernelspec": {
   "display_name": "basics",
   "language": "python",
   "name": "python3"
  },
  "language_info": {
   "codemirror_mode": {
    "name": "ipython",
    "version": 3
   },
   "file_extension": ".py",
   "mimetype": "text/x-python",
   "name": "python",
   "nbconvert_exporter": "python",
   "pygments_lexer": "ipython3",
   "version": "3.12.2"
  }
 },
 "nbformat": 4,
 "nbformat_minor": 2
}
