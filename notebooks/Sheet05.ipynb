{
 "cells": [
  {
   "cell_type": "markdown",
   "metadata": {},
   "source": [
    "# Aufgabe 1"
   ]
  },
  {
   "cell_type": "code",
   "execution_count": null,
   "metadata": {},
   "outputs": [],
   "source": []
  },
  {
   "cell_type": "markdown",
   "metadata": {},
   "source": [
    "# Aufgabe 2"
   ]
  },
  {
   "cell_type": "code",
   "execution_count": 1,
   "metadata": {},
   "outputs": [
    {
     "name": "stdout",
     "output_type": "stream",
     "text": [
      "R_E = 2487.56 Ohm\n",
      "R_1 = 7114.43 Ohm\n",
      "R_2 = 2850.00 Ohm\n"
     ]
    }
   ],
   "source": [
    "# Gegebene Werte\n",
    "B = 200\n",
    "U_BE = 0.7\n",
    "I_L = I_2 = 2e-3\n",
    "U_E = 5\n",
    "I_B = 20\n",
    "\n",
    "# Zwischenergebnisse\n",
    "I_1 = I_E = 201/200*I_L\n",
    "U_2 = U_Ba = 5.7\n",
    "U_1 = 14.3\n",
    "\n",
    "# Berechnungen\n",
    "R_E = 200*U_E/(201*I_L)\n",
    "R_1 = U_1/I_1\n",
    "R_2 = U_2/I_2\n",
    "\n",
    "# Ausgabe\n",
    "print(f\"R_E = {R_E:.2f} Ohm\")\n",
    "print(f\"R_1 = {R_1:.2f} Ohm\")\n",
    "print(f\"R_2 = {R_2:.2f} Ohm\")"
   ]
  },
  {
   "cell_type": "code",
   "execution_count": null,
   "metadata": {},
   "outputs": [],
   "source": []
  }
 ],
 "metadata": {
  "kernelspec": {
   "display_name": "basics",
   "language": "python",
   "name": "python3"
  },
  "language_info": {
   "codemirror_mode": {
    "name": "ipython",
    "version": 3
   },
   "file_extension": ".py",
   "mimetype": "text/x-python",
   "name": "python",
   "nbconvert_exporter": "python",
   "pygments_lexer": "ipython3",
   "version": "3.12.2"
  }
 },
 "nbformat": 4,
 "nbformat_minor": 2
}
