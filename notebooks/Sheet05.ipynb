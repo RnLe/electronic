{
 "cells": [
  {
   "cell_type": "markdown",
   "metadata": {},
   "source": [
    "# Aufgabe 1"
   ]
  },
  {
   "cell_type": "code",
   "execution_count": null,
   "metadata": {},
   "outputs": [],
   "source": []
  },
  {
   "cell_type": "markdown",
   "metadata": {},
   "source": [
    "# Aufgabe 2"
   ]
  },
  {
   "cell_type": "code",
   "execution_count": 1,
   "metadata": {},
   "outputs": [
    {
     "name": "stdout",
     "output_type": "stream",
     "text": [
      "R_E = 2487.56 Ohm\n",
      "R_1 = 7114.43 Ohm\n",
      "R_2 = 2850.00 Ohm\n"
     ]
    }
   ],
   "source": [
    "# Gegebene Werte\n",
    "B = 200\n",
    "U_BE = 0.7\n",
    "I_L = I_2 = 2e-3\n",
    "U_E = 5\n",
    "I_B = 20\n",
    "\n",
    "# Zwischenergebnisse\n",
    "I_1 = I_E = 201/200*I_L\n",
    "U_2 = U_Ba = 5.7\n",
    "U_1 = 14.3\n",
    "\n",
    "# Berechnungen\n",
    "R_E = 200*U_E/(201*I_L)\n",
    "R_1 = U_1/I_1\n",
    "R_2 = U_2/I_2\n",
    "\n",
    "# Ausgabe\n",
    "print(f\"R_E = {R_E:.2f} Ohm\")\n",
    "print(f\"R_1 = {R_1:.2f} Ohm\")\n",
    "print(f\"R_2 = {R_2:.2f} Ohm\")"
   ]
  },
  {
   "cell_type": "markdown",
   "metadata": {},
   "source": [
    "# Aufgabe 3"
   ]
  },
  {
   "cell_type": "code",
   "execution_count": 6,
   "metadata": {},
   "outputs": [
    {
     "name": "stdout",
     "output_type": "stream",
     "text": [
      "I_ges = 3.75 mA\n",
      "I_12 = 1.25 mA\n",
      "I_34 = 2.50 mA\n",
      "U_1 = 3.75 V\n",
      "U_2 = 2.50 V\n"
     ]
    }
   ],
   "source": [
    "R_1 = 1000\n",
    "R_2 = 3000\n",
    "R_3 = 1000\n",
    "R_4 = 1000\n",
    "R_12 = R_1 + R_2\n",
    "R_34 = R_3 + R_4\n",
    "R_ges = R_12*R_34/(R_12+R_34)\n",
    "U_b = 5\n",
    "\n",
    "I_ges = U_b/R_ges\n",
    "\n",
    "# Ausgabe\n",
    "# In Milliampere umrechnen\n",
    "print(f\"I_ges = {I_ges*1e3:.2f} mA\")\n",
    "\n",
    "I_12 = R_34*I_ges/(R_12+R_34)\n",
    "I_34 = R_12*I_ges/(R_12+R_34)\n",
    "\n",
    "U_1 = R_2*I_12\n",
    "U_2 = R_4*I_34\n",
    "\n",
    "# Ausgabe\n",
    "print(f\"I_12 = {I_12*1e3:.2f} mA\")\n",
    "print(f\"I_34 = {I_34*1e3:.2f} mA\")\n",
    "print(f\"U_1 = {U_1:.2f} V\")\n",
    "print(f\"U_2 = {U_2:.2f} V\")"
   ]
  },
  {
   "cell_type": "code",
   "execution_count": 14,
   "metadata": {},
   "outputs": [
    {
     "name": "stdout",
     "output_type": "stream",
     "text": [
      "I_ges = 0.56 mA\n",
      "I_ges2 = 4.00 mA\n",
      "I_12 = 2.00 mA\n",
      "I_32 = 2.00 mA\n",
      "I_22 = 1.00 mA\n",
      "I_42 = 3.00 mA\n",
      "I_D2 = -1.00 mA\n",
      "I_D2 = 1.00 mA\n",
      "I_41 = 0.28 mA\n",
      "I_21 = 0.14 mA\n",
      "U_1 = 3.42 V\n",
      "U_2 = 2.72 V\n"
     ]
    }
   ],
   "source": [
    "R_34 = 500\n",
    "R_12 = 750\n",
    "U_D = 0.7\n",
    "U_b = 5\n",
    "\n",
    "R_ges = R_34 + R_12\n",
    "I_ges = U_D/R_ges\n",
    "I_ges2 = U_b/R_ges\n",
    "\n",
    "print(f\"I_ges = {I_ges*1e3:.2f} mA\")\n",
    "print(f\"I_ges2 = {I_ges2*1e3:.2f} mA\")\n",
    "\n",
    "I_12 = I_ges2*R_3/(R_1+R_3)\n",
    "I_32 = I_ges2*R_1/(R_1+R_3)\n",
    "I_22 = I_ges2*R_4/(R_2+R_4)\n",
    "I_42 = I_ges2*R_2/(R_2+R_4)\n",
    "\n",
    "print(f\"I_12 = {I_12*1e3:.2f} mA\")\n",
    "print(f\"I_32 = {I_32*1e3:.2f} mA\")\n",
    "print(f\"I_22 = {I_22*1e3:.2f} mA\")\n",
    "print(f\"I_42 = {I_42*1e3:.2f} mA\")\n",
    "\n",
    "I_D2 = I_32 - I_42\n",
    "print(f\"I_D2 = {I_D2*1e3:.2f} mA\")\n",
    "I_D2 = I_12 - I_22\n",
    "print(f\"I_D2 = {I_D2*1e3:.2f} mA\")\n",
    "\n",
    "I_41 = I_ges*R_3/(R_4+R_3)\n",
    "I_21 = I_ges*R_1/(R_1+R_2)\n",
    "\n",
    "print(f\"I_41 = {I_41*1e3:.2f} mA\")\n",
    "print(f\"I_21 = {I_21*1e3:.2f} mA\")\n",
    "\n",
    "U_1 = R_2*(I_22 + I_21)\n",
    "U_2 = R_4*(I_42 - I_41)\n",
    "\n",
    "print(f\"U_1 = {U_1:.2f} V\")\n",
    "print(f\"U_2 = {U_2:.2f} V\")"
   ]
  },
  {
   "cell_type": "code",
   "execution_count": null,
   "metadata": {},
   "outputs": [],
   "source": []
  }
 ],
 "metadata": {
  "kernelspec": {
   "display_name": "basics",
   "language": "python",
   "name": "python3"
  },
  "language_info": {
   "codemirror_mode": {
    "name": "ipython",
    "version": 3
   },
   "file_extension": ".py",
   "mimetype": "text/x-python",
   "name": "python",
   "nbconvert_exporter": "python",
   "pygments_lexer": "ipython3",
   "version": "3.12.2"
  }
 },
 "nbformat": 4,
 "nbformat_minor": 2
}
