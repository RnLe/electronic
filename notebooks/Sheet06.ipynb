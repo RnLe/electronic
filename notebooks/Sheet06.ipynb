{
 "cells": [
  {
   "cell_type": "code",
   "execution_count": 6,
   "metadata": {},
   "outputs": [
    {
     "name": "stdout",
     "output_type": "stream",
     "text": [
      "I_B = 49.99999999999999 uA\n",
      "I_E = 7549.999999999999 uA\n",
      "I_Q = 500.0 uA\n",
      "I_B1 = 550.0 uA\n",
      "I_B2 = 500.0 uA\n",
      "I_ges = 8050.0 uA\n",
      "U_C = 7.50 V\n",
      "R_C = 1000.00 Ohm\n",
      "R_B1 = 13636.36 Ohm\n",
      "U_B1 = 7.50 V\n",
      "U_B2 = 7.50 V\n",
      "R_B2 = 15000.00 Ohm\n"
     ]
    }
   ],
   "source": [
    "I_C = 7.5e-3    # A\n",
    "U_CE = 7.5      # V\n",
    "U_0 = 15        # V\n",
    "beta = 150\n",
    "\n",
    "I_B = I_C / beta\n",
    "I_E = I_C + I_B\n",
    "I_Q = I_B2 = 10*I_B\n",
    "I_B1 = I_B2 + I_B\n",
    "I_ges = I_B1 + I_C\n",
    "\n",
    "# Ströme\n",
    "print('I_B = {} uA'.format(I_B*1e6))\n",
    "print('I_E = {} uA'.format(I_E*1e6))\n",
    "print('I_Q = {} uA'.format(I_Q*1e6))\n",
    "print('I_B1 = {} uA'.format(I_B1*1e6))\n",
    "print('I_B2 = {} uA'.format(I_B2*1e6))\n",
    "print('I_ges = {} uA'.format(I_ges*1e6))\n",
    "\n",
    "U_C = U_0 - U_CE\n",
    "R_C = U_C / I_C\n",
    "U_B2 = 0.7\n",
    "R_B2 = U_B2 / I_B2\n",
    "U_B1 = U_0 - U_B2\n",
    "R_B1 = U_B1 / I_B1\n",
    "\n",
    "# Widerstände\n",
    "print('U_C = {:.2f} V'.format(U_C))\n",
    "print('R_C = {:.2f} Ohm'.format(R_C))\n",
    "print('R_B1 = {:.2f} Ohm'.format(R_B1))\n",
    "print('U_B1 = {:.2f} V'.format(U_B1))\n",
    "print('U_B2 = {:.2f} V'.format(U_B2))\n",
    "print('R_B2 = {:.2f} Ohm'.format(R_B2))\n",
    "\n"
   ]
  },
  {
   "cell_type": "code",
   "execution_count": null,
   "metadata": {},
   "outputs": [],
   "source": []
  }
 ],
 "metadata": {
  "kernelspec": {
   "display_name": "basics",
   "language": "python",
   "name": "python3"
  },
  "language_info": {
   "codemirror_mode": {
    "name": "ipython",
    "version": 3
   },
   "file_extension": ".py",
   "mimetype": "text/x-python",
   "name": "python",
   "nbconvert_exporter": "python",
   "pygments_lexer": "ipython3",
   "version": "3.12.2"
  }
 },
 "nbformat": 4,
 "nbformat_minor": 2
}
