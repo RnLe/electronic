{
 "cells": [
  {
   "cell_type": "markdown",
   "metadata": {},
   "source": [
    "# Exercise 1: Steckdose"
   ]
  },
  {
   "cell_type": "code",
   "execution_count": null,
   "metadata": {},
   "outputs": [],
   "source": []
  },
  {
   "cell_type": "markdown",
   "metadata": {},
   "source": [
    "# Exercise 2: Autobatterie"
   ]
  },
  {
   "cell_type": "code",
   "execution_count": 3,
   "metadata": {},
   "outputs": [
    {
     "name": "stdout",
     "output_type": "stream",
     "text": [
      "R_ges = 0.21 Ohm\n",
      "U_i = 7.20 V\n",
      "U_L = 0.60 V\n",
      "U_a = 4.80 V\n",
      "R_a = 0.08 Ohm\n",
      "U_Kl,batt = 5.40 V\n"
     ]
    },
    {
     "data": {
      "text/plain": [
       "0.08"
      ]
     },
     "execution_count": 3,
     "metadata": {},
     "output_type": "execute_result"
    }
   ],
   "source": [
    "I = 60 # A\n",
    "U = 12.6 # V\n",
    "R_i = 0.12 # Ohm\n",
    "R_L = 0.01 # Ohm\n",
    "R_ges = U / I\n",
    "R_a = R_ges - R_i - R_L\n",
    "U_i = I * R_i\n",
    "U_L = I * R_L\n",
    "U_a = U - U_i - U_L\n",
    "\n",
    "print(f\"R_ges = {R_ges:.2f} Ohm\")\n",
    "print(f\"U_i = {U_i:.2f} V\")\n",
    "print(f\"U_L = {U_L:.2f} V\")\n",
    "print(f\"U_a = {U_a:.2f} V\")\n",
    "print(f\"R_a = {R_a:.2f} Ohm\")\n",
    "\n",
    "print(f\"U_Kl,batt = {U - U_i:.2f} V\")\n",
    "\n",
    "4.8/60"
   ]
  },
  {
   "cell_type": "markdown",
   "metadata": {},
   "source": [
    "# Exercise 3: Multimeter"
   ]
  },
  {
   "cell_type": "code",
   "execution_count": 6,
   "metadata": {},
   "outputs": [
    {
     "name": "stdout",
     "output_type": "stream",
     "text": [
      "R_V_min = 80.0 MOhm\n",
      "R_V_max = 179.99999999999991 MOhm\n",
      "I_V_min = 18.181818181818183 uA\n",
      "I_V_max = 40.90909090909091 uA\n",
      "P_V_min = 72727.27272727272 uW\n",
      "P_V_max = 368181.8181818182 uW\n"
     ]
    }
   ],
   "source": [
    "R_i = 20*10**6 # Ohm\n",
    "U_0 = [5000, 10000]\n",
    "U_V = [4000, 9000]\n",
    "R_V_min, R_V_max = 0, 0\n",
    "R_V_min = R_i / (U_0[0] / U_V[0] - 1)\n",
    "R_V_max = R_i / (U_0[1] / U_V[1] - 1)\n",
    "\n",
    "print(f\"R_V_min = {R_V_min/10**6} MOhm\")\n",
    "print(f\"R_V_max = {R_V_max/10**6} MOhm\")\n",
    "\n",
    "# For c) and d)\n",
    "R_V = 200*10**6 # Ohm\n",
    "I_V_min = U_0[0] / (R_V + R_i)\n",
    "I_V_max = U_0[1] / (R_V + R_i)\n",
    "\n",
    "print(f\"I_V_min = {I_V_min*10**6} uA\")\n",
    "print(f\"I_V_max = {I_V_max*10**6} uA\")\n",
    "\n",
    "P_V_min = U_V[0] * I_V_min\n",
    "P_V_max = U_V[1] * I_V_max\n",
    "\n",
    "print(f\"P_V_min = {P_V_min*10**6} uW\")\n",
    "print(f\"P_V_max = {P_V_max*10**6} uW\")"
   ]
  },
  {
   "cell_type": "markdown",
   "metadata": {},
   "source": [
    "# Exercise 4: Brückenschaltung"
   ]
  },
  {
   "cell_type": "code",
   "execution_count": 1,
   "metadata": {},
   "outputs": [
    {
     "name": "stdout",
     "output_type": "stream",
     "text": [
      "R_Z = 17000 Ohm\n",
      "R_14 = 340.0 Ohm\n",
      "R_13 = 212.5 Ohm\n",
      "R_34 = 170.0 Ohm\n"
     ]
    }
   ],
   "source": [
    "# All units in Ohm\n",
    "R_12 = R_31 = 100\n",
    "R_23 = 50\n",
    "R_24 = 80\n",
    "R_43 = 120\n",
    "\n",
    "# Calculate the delta star transformation\n",
    "R_Z = R_12 * R_23 + R_23 * R_24 + R_24 * R_12\n",
    "R_14 = R_Z / R_23\n",
    "R_13 = R_Z / R_24\n",
    "R_34 = R_Z / R_12\n",
    "\n",
    "print(f\"R_Z = {R_Z} Ohm\")\n",
    "print(f\"R_14 = {R_14} Ohm\")\n",
    "print(f\"R_13 = {R_13} Ohm\")\n",
    "print(f\"R_34 = {R_34} Ohm\")"
   ]
  },
  {
   "cell_type": "code",
   "execution_count": 2,
   "metadata": {},
   "outputs": [
    {
     "name": "stdout",
     "output_type": "stream",
     "text": [
      "R_13p' = 68.0 Ohm\n",
      "R_34p' = 70.34482758620689 Ohm\n",
      "R_41 = 138.3448275862069 Ohm\n",
      "R_14p' = 98.33333333333333 Ohm\n"
     ]
    }
   ],
   "source": [
    "# Calculate the equivalent resistances\n",
    "R_13p = R_13*R_31/(R_13+R_31)\n",
    "R_34p = R_34*R_43/(R_34+R_43)\n",
    "R_41 = R_13p + R_34p\n",
    "R_14p = R_14*R_41/(R_14+R_41)\n",
    "\n",
    "print(f\"R_13p' = {R_13p} Ohm\")\n",
    "print(f\"R_34p' = {R_34p} Ohm\")\n",
    "print(f\"R_41 = {R_41} Ohm\")\n",
    "print(f\"R_14p' = {R_14p} Ohm\")"
   ]
  }
 ],
 "metadata": {
  "kernelspec": {
   "display_name": "basics",
   "language": "python",
   "name": "python3"
  },
  "language_info": {
   "codemirror_mode": {
    "name": "ipython",
    "version": 3
   },
   "file_extension": ".py",
   "mimetype": "text/x-python",
   "name": "python",
   "nbconvert_exporter": "python",
   "pygments_lexer": "ipython3",
   "version": "3.12.2"
  }
 },
 "nbformat": 4,
 "nbformat_minor": 2
}
