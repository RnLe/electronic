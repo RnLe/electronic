{
 "cells": [
  {
   "cell_type": "markdown",
   "metadata": {},
   "source": [
    "# Exercise 1: Steckdose"
   ]
  },
  {
   "cell_type": "code",
   "execution_count": null,
   "metadata": {},
   "outputs": [],
   "source": []
  },
  {
   "cell_type": "markdown",
   "metadata": {},
   "source": [
    "# Exercise 2: Autobatterie"
   ]
  },
  {
   "cell_type": "code",
   "execution_count": 1,
   "metadata": {},
   "outputs": [
    {
     "name": "stdout",
     "output_type": "stream",
     "text": [
      "R_ges = 0.21 Ohm\n",
      "U_i = 7.20 V\n",
      "U_L = 0.60 V\n",
      "U_a = 4.80 V\n",
      "R_a = 0.08 Ohm\n"
     ]
    }
   ],
   "source": [
    "I = 60 # A\n",
    "U = 12.6 # V\n",
    "R_i = 0.12 # Ohm\n",
    "R_L = 0.01 # Ohm\n",
    "R_ges = U / I\n",
    "R_a = R_ges - R_i - R_L\n",
    "U_i = I * R_i\n",
    "U_L = I * R_L\n",
    "U_a = U - U_i - U_L\n",
    "\n",
    "print(f\"R_ges = {R_ges:.2f} Ohm\")\n",
    "print(f\"U_i = {U_i:.2f} V\")\n",
    "print(f\"U_L = {U_L:.2f} V\")\n",
    "print(f\"U_a = {U_a:.2f} V\")\n",
    "print(f\"R_a = {R_a:.2f} Ohm\")\n",
    "\n",
    "print(f\"U_Kl,batt = {U - U_i:.2f} V\")"
   ]
  },
  {
   "cell_type": "markdown",
   "metadata": {},
   "source": [
    "# Exercise 3: Multimeter"
   ]
  },
  {
   "cell_type": "markdown",
   "metadata": {},
   "source": [
    "# Exercise 4: Brückenschaltung"
   ]
  },
  {
   "cell_type": "code",
   "execution_count": 1,
   "metadata": {},
   "outputs": [
    {
     "name": "stdout",
     "output_type": "stream",
     "text": [
      "R_Z = 17000 Ohm\n",
      "R_14 = 340.0 Ohm\n",
      "R_13 = 212.5 Ohm\n",
      "R_34 = 170.0 Ohm\n"
     ]
    }
   ],
   "source": [
    "# All units in Ohm\n",
    "R_12 = R_31 = 100\n",
    "R_23 = 50\n",
    "R_24 = 80\n",
    "R_43 = 120\n",
    "\n",
    "# Calculate the delta star transformation\n",
    "R_Z = R_12 * R_23 + R_23 * R_24 + R_24 * R_12\n",
    "R_14 = R_Z / R_23\n",
    "R_13 = R_Z / R_24\n",
    "R_34 = R_Z / R_12\n",
    "\n",
    "print(f\"R_Z = {R_Z} Ohm\")\n",
    "print(f\"R_14 = {R_14} Ohm\")\n",
    "print(f\"R_13 = {R_13} Ohm\")\n",
    "print(f\"R_34 = {R_34} Ohm\")"
   ]
  },
  {
   "cell_type": "code",
   "execution_count": 2,
   "metadata": {},
   "outputs": [
    {
     "name": "stdout",
     "output_type": "stream",
     "text": [
      "R_13p' = 68.0 Ohm\n",
      "R_34p' = 70.34482758620689 Ohm\n",
      "R_41 = 138.3448275862069 Ohm\n",
      "R_14p' = 98.33333333333333 Ohm\n"
     ]
    }
   ],
   "source": [
    "# Calculate the equivalent resistances\n",
    "R_13p = R_13*R_31/(R_13+R_31)\n",
    "R_34p = R_34*R_43/(R_34+R_43)\n",
    "R_41 = R_13p + R_34p\n",
    "R_14p = R_14*R_41/(R_14+R_41)\n",
    "\n",
    "print(f\"R_13p' = {R_13p} Ohm\")\n",
    "print(f\"R_34p' = {R_34p} Ohm\")\n",
    "print(f\"R_41 = {R_41} Ohm\")\n",
    "print(f\"R_14p' = {R_14p} Ohm\")"
   ]
  }
 ],
 "metadata": {
  "kernelspec": {
   "display_name": "basics",
   "language": "python",
   "name": "python3"
  },
  "language_info": {
   "codemirror_mode": {
    "name": "ipython",
    "version": 3
   },
   "file_extension": ".py",
   "mimetype": "text/x-python",
   "name": "python",
   "nbconvert_exporter": "python",
   "pygments_lexer": "ipython3",
   "version": "3.12.2"
  }
 },
 "nbformat": 4,
 "nbformat_minor": 2
}
